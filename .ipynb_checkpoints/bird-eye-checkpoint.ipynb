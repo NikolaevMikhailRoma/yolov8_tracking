{
 "cells": [
  {
   "cell_type": "markdown",
   "id": "c23b8b1b",
   "metadata": {},
   "source": [
    "Будем обрабатывать видео по датасету. Возьмем первый файл\n",
    "\n",
    "Предварительно добавили в файл track.py фичу с выводом на видео трека (флаг --draw-track-lines-bottom) определенной длинны (флаг --track-lines-len) по нижней средней точнке bbox.\n",
    "Комментарии и основные этапы: \n",
    "1. Основной репрозиторий https://github.com/mikel-brostrom/yolov8_tracking.git \n",
    "2. Идея кода для визуализации трека (далее полилинии) взята с https://github.com/bharath5673/StrongSORT-YOLO.git, но там yolo 5-й и 7-й версии\n",
    "3. Функция для расчета длинны полилинии сформирована в ghatGPT\n",
    "4. Сейчас выводится длинна трека ниже и равной длинне lenght\n",
    "5. Есть функция записи точек анкорбокса из первоначального репозитория, но я добавил свою \n",
    "6. Для теста можно запустить строчки ниже"
   ]
  },
  {
   "cell_type": "code",
   "execution_count": null,
   "id": "9f4046a2",
   "metadata": {},
   "outputs": [],
   "source": [
    "# обработка видео, добавление bboxes с треком в новый .avi файл и запись текстового файла с координатами боксов\n",
    "python track.py --yolo-weights yolov8m.pt --reid-weights osnet_x0_25_msmt17.pt --source ./HallWayTracking/HallWayTracking/videos/001.avi \\\n",
    "--save-vid --draw-track-lines-bottom --exist-ok --save-trajectories --save-txt \n",
    "\n",
    "# использование матрицы гомографии и создание нового видео с \"видом сверху\"\n",
    "python bird_eye.py --source-homorgafhy ./HallWayTracking/HallWayTracking/homography/001.txt --track-source ./runs/track/exp/tracks/001.txt \\\n",
    "--homography-output-file ./runs/track/exp/homography/001.avi"
   ]
  },
  {
   "cell_type": "code",
   "execution_count": null,
   "id": "5ce899e1",
   "metadata": {},
   "outputs": [],
   "source": [
    "# запустим скрипт для обработки видео\n",
    "# новый файл сохранятеся в ./runs/track/exp/\n",
    "run = \"python track.py --yolo-weights yolov8m.pt --reid-weights osnet_x0_25_msmt17.pt \\\n",
    "--source ./HallWayTracking/HallWayTracking/videos/001.avi --save-vid --draw-track-lines-bottom\"\n",
    "\n",
    "with open('run.py', 'w') as f:\n",
    "    f.write (run)\n",
    "\n",
    "# лучше хотя бы с терминала\n",
    "# !python run.py"
   ]
  },
  {
   "cell_type": "markdown",
   "id": "bb1d3cd9",
   "metadata": {},
   "source": [
    "# Read .mat data\n",
    "смотрим на файлы гомографии (homography) и парсим"
   ]
  },
  {
   "cell_type": "code",
   "execution_count": 5,
   "id": "d9070aae",
   "metadata": {},
   "outputs": [
    {
     "data": {
      "text/plain": [
       "{'__header__': b'MATLAB 5.0 MAT-file, Platform: PCWIN64, Created on: Thu Mar 01 19:47:40 2012',\n",
       " '__version__': '1.0',\n",
       " '__globals__': [],\n",
       " 'Homography': array([[array([[ 4.67919462e-03, -1.06004410e-03, -1.09720060e+00],\n",
       "                [ 9.63165706e-03, -7.06995954e-02,  8.52759539e+00],\n",
       "                [ 1.89291756e-04, -8.56961084e-04,  3.01514423e-02]]),\n",
       "         array([[ 4.40052359e-03,  1.59780282e-03, -2.00359628e+00],\n",
       "                [ 1.55694318e-03, -3.01634839e-02,  2.88577712e+00],\n",
       "                [ 2.73338119e-05, -5.94847892e-04, -3.91337240e-02]]),\n",
       "         array([[-4.06039971e-03, -1.43777489e-03,  1.89281179e+00],\n",
       "                [ 3.00991920e-04,  2.37464115e-02, -3.87132999e+00],\n",
       "                [ 1.42848090e-05,  5.24767571e-04,  1.08149217e-02]]),\n",
       "         array([[-3.69794989e-03, -1.84238981e-03,  1.74863914e+00],\n",
       "                [-7.49713432e-04,  1.04485645e-02, -4.18152922e+00],\n",
       "                [-1.15416774e-05,  5.49002935e-04, -8.96759665e-03]]),\n",
       "         array([[-4.38850682e-03,  1.12003962e-03,  7.00150650e-01],\n",
       "                [ 1.66780399e-04,  4.51911049e-02, -5.58730183e+00],\n",
       "                [-3.00448926e-06, -6.97121289e-04,  9.57408635e-03]])]],\n",
       "       dtype=object)}"
      ]
     },
     "execution_count": 5,
     "metadata": {},
     "output_type": "execute_result"
    }
   ],
   "source": [
    "import scipy.io\n",
    "mat = scipy.io.loadmat('./HallWayTracking/HallWayTracking/homography/Homography.mat')\n",
    "mat"
   ]
  },
  {
   "cell_type": "code",
   "execution_count": 148,
   "id": "799d8dfd",
   "metadata": {},
   "outputs": [
    {
     "data": {
      "text/plain": [
       "array([[ 4.67919462e-03, -1.06004410e-03, -1.09720060e+00],\n",
       "       [ 9.63165706e-03, -7.06995954e-02,  8.52759539e+00],\n",
       "       [ 1.89291756e-04, -8.56961084e-04,  3.01514423e-02]])"
      ]
     },
     "execution_count": 148,
     "metadata": {},
     "output_type": "execute_result"
    }
   ],
   "source": [
    "homography_matrix = mat['Homography'][0][0]\n",
    "homography_matrix"
   ]
  },
  {
   "cell_type": "markdown",
   "id": "e082ad2c",
   "metadata": {},
   "source": [
    "# Bird eye\n",
    "смотрим корректность применения homography matrix"
   ]
  },
  {
   "cell_type": "code",
   "execution_count": 89,
   "id": "13d9aa59",
   "metadata": {},
   "outputs": [
    {
     "data": {
      "text/html": [
       "<div>\n",
       "<style scoped>\n",
       "    .dataframe tbody tr th:only-of-type {\n",
       "        vertical-align: middle;\n",
       "    }\n",
       "\n",
       "    .dataframe tbody tr th {\n",
       "        vertical-align: top;\n",
       "    }\n",
       "\n",
       "    .dataframe thead th {\n",
       "        text-align: right;\n",
       "    }\n",
       "</style>\n",
       "<table border=\"1\" class=\"dataframe\">\n",
       "  <thead>\n",
       "    <tr style=\"text-align: right;\">\n",
       "      <th></th>\n",
       "      <th>1 1 272 192</th>\n",
       "    </tr>\n",
       "  </thead>\n",
       "  <tbody>\n",
       "    <tr>\n",
       "      <th>0</th>\n",
       "      <td>2 1 272 190</td>\n",
       "    </tr>\n",
       "    <tr>\n",
       "      <th>1</th>\n",
       "      <td>3 1 272 189</td>\n",
       "    </tr>\n",
       "    <tr>\n",
       "      <th>2</th>\n",
       "      <td>4 1 272 185</td>\n",
       "    </tr>\n",
       "    <tr>\n",
       "      <th>3</th>\n",
       "      <td>5 1 272 188</td>\n",
       "    </tr>\n",
       "    <tr>\n",
       "      <th>4</th>\n",
       "      <td>6 1 272 189</td>\n",
       "    </tr>\n",
       "    <tr>\n",
       "      <th>...</th>\n",
       "      <td>...</td>\n",
       "    </tr>\n",
       "    <tr>\n",
       "      <th>3289</th>\n",
       "      <td>1885 10 245 176</td>\n",
       "    </tr>\n",
       "    <tr>\n",
       "      <th>3290</th>\n",
       "      <td>1886 11 280 200</td>\n",
       "    </tr>\n",
       "    <tr>\n",
       "      <th>3291</th>\n",
       "      <td>1886 10 246 176</td>\n",
       "    </tr>\n",
       "    <tr>\n",
       "      <th>3292</th>\n",
       "      <td>1887 11 276 201</td>\n",
       "    </tr>\n",
       "    <tr>\n",
       "      <th>3293</th>\n",
       "      <td>1887 10 246 177</td>\n",
       "    </tr>\n",
       "  </tbody>\n",
       "</table>\n",
       "<p>3294 rows × 1 columns</p>\n",
       "</div>"
      ],
      "text/plain": [
       "          1 1 272 192 \n",
       "0         2 1 272 190 \n",
       "1         3 1 272 189 \n",
       "2         4 1 272 185 \n",
       "3         5 1 272 188 \n",
       "4         6 1 272 189 \n",
       "...                ...\n",
       "3289  1885 10 245 176 \n",
       "3290  1886 11 280 200 \n",
       "3291  1886 10 246 176 \n",
       "3292  1887 11 276 201 \n",
       "3293  1887 10 246 177 \n",
       "\n",
       "[3294 rows x 1 columns]"
      ]
     },
     "execution_count": 89,
     "metadata": {},
     "output_type": "execute_result"
    }
   ],
   "source": [
    "import pandas as pd\n",
    "path_of_data = './runs/track/exp/tracks/001_bottom_track.txt'\n",
    "data = pd.read_csv(path_of_data)\n",
    "data"
   ]
  },
  {
   "cell_type": "code",
   "execution_count": 90,
   "id": "aeb2ff39",
   "metadata": {},
   "outputs": [
    {
     "data": {
      "image/png": "[encoded data removed]",
      "text/plain": [
       "<Figure size 1315.11x333.469 with 1 Axes>"
      ]
     },
     "metadata": {},
     "output_type": "display_data"
    }
   ],
   "source": [
    "# корректно загружаем данные\n",
    "import matplotlib.pyplot as plt\n",
    "import numpy as np\n",
    "\n",
    "f=open(path_of_data,\"r\")\n",
    "lines=f.readlines()\n",
    "result=[]\n",
    "for x in lines:\n",
    "    result.append(x.split(' '))\n",
    "f.close()\n",
    "\n",
    "columns =['frame_idx', 'id', 'w', 'h', 'one']\n",
    "df = pd.DataFrame(result, columns= columns)\n",
    "df['one'] = 1\n",
    "df = df.astype(int)\n",
    "\n",
    "points_array = np.array(df[['w', 'h', 'one']], dtype = int)\n",
    "points_array\n",
    "\n",
    "# result = np.dot(points_array, homography_matrix)\n",
    "result = np.array([np.dot(homography_matrix, points,) for points in points_array])\n",
    "\n",
    "# меняем оси согласно рисунку с гомографией \n",
    "df['x_transform'] = result[:,1]\n",
    "df['y_transform'] = result[:,0]\n",
    "\n",
    "ind = 1\n",
    "\n",
    "# у нас тут проблемы с масштабами, но ничего страшного\n",
    "fig, ax = plt.subplots(\n",
    "    figsize = ((df['x_transform'].max() - df['x_transform'].min())*ind/2,\n",
    "               (df['y_transform'].max() - df['y_transform'].min())*ind*2)\n",
    ")\n",
    "\n",
    "for i in df['id'].unique():\n",
    "    data = df[df['id'] == i]\n",
    "    ax.plot(data['x_transform'], data['y_transform']*(-1), label = data['id'])\n",
    "\n",
    "# ax.legend()\n",
    "plt.show()"
   ]
  },
  {
   "cell_type": "markdown",
   "id": "72ab65e0",
   "metadata": {},
   "source": [
    "# Делаем итоговый код\n",
    "В применении функции полилинии в cv2 может быть ошибка float типа"
   ]
  },
  {
   "cell_type": "code",
   "execution_count": 63,
   "id": "f46a199b",
   "metadata": {},
   "outputs": [],
   "source": [
    "import cv2\n",
    "import numpy as np\n",
    "\n",
    "# constants\n",
    "source_homorgafhy = './HallWayTracking/HallWayTracking/homography/001.txt'\n",
    "track_source = './runs/track/exp/tracks/001.txt'\n",
    "video_h, video_w = 256, 256\n",
    "track_lines_len = 50\n",
    "thickness = 2\n",
    "\n",
    "# defs\n",
    "def create_polyline(point_list, length = LENGHT):\n",
    "    # Return a line of a (length) from a list of points (point_list)\n",
    "    # todo: может выводить линию меньше lenght, обратить внимание\n",
    "    polyline = []\n",
    "    x, y = point_list[-1]\n",
    "    for i in range(len(point_list)-1, -1, -1):\n",
    "        px, py = point_list[i]\n",
    "        dist = ((px - x)**2 + (py - y)**2)**0.5\n",
    "        if dist <= length:\n",
    "            polyline.append((px, py))\n",
    "            length -= dist\n",
    "            x, y = px, py\n",
    "        else:\n",
    "            dx, dy = px - x, py - y\n",
    "            polyline.append(((x + dx * length / dist).astype(int), \n",
    "                             (y + dy * length / dist).astype(int)))\n",
    "            break\n",
    "    return polyline[::-1]\n",
    "\n",
    "def transform_axes(my_array, ax, axes_size):\n",
    "    MIN = my_array[:,ax].min()\n",
    "    MAX = my_array[:,ax].max()\n",
    "    \n",
    "    return (axes_size*((my_array[:,ax]-MIN)/(MAX - MIN))).astype(int)\n",
    "# track_df = np.array()\n",
    "# read and transform values\n",
    "with open(source_homorgafhy, 'r') as f:\n",
    "    homography = f.read().replace('\\n', '').split(',')\n",
    "    homography_matrix = np.array(homography, dtype=float).reshape((3, 3))\n",
    "\n",
    "with open(track_source, 'r') as f:\n",
    "    lines = f.readlines()\n",
    "    txt = f.read()\n",
    "    \n",
    "track_df = np.loadtxt(track_source, dtype=float) # frame_idx + 1, id, bbox_left, bbox_top, bbox_w, bbox_h, -1, -1, -1, i  MOT format\n",
    "frames_n_ids = np.array(track_df[:, :2], dtype=int)\n",
    "\n",
    "track_df_transform = np.ones_like(track_df[:,2:5])\n",
    "track_df_transform[:,0] = track_df[:,2]+track_df[:,4]/2\n",
    "track_df_transform[:,1] = track_df[:,3]+track_df[:,5]/2\n",
    "\n",
    "track_df_transform = np.array([np.dot(homogrLENGHTaphy_matrix, points,) for points in track_df_transform])\n",
    "# track_df_transform = np.dot(track_df_transform, homography_matrix)\n",
    "\n",
    "track_df_transform[:,0] = video_w*((track_df_transform[:,0]-track_df_transform[:,0].min())/(track_df_transform[:,0].max() - track_df_transform[:,0].min()))\n",
    "track_df_transform[:,0] = transform_axes(track_df_transform, 0)\n",
    "track_df_transform[:,1] = transform_axes(track_df_transform, 1)\n",
    "\n",
    "# track_df_transform, frame_indxes\n",
    "\n",
    "fourcc = cv2.VideoWriter_fourcc(*'MJPG') # Создаем новый видеофайл с помощью cv.VideoWriter\n",
    "out = cv2.VideoWriter('output.avi', fourcc, 30, (video_h, video_w)) # собираем видос\n",
    "\n",
    "\n",
    "\n",
    "unique_people_ids = set(frames_n_ids[:,1]) # собираем уникальные идентификаторы\n",
    "# проходим по фреймам. Обрабите внимание, максимальный размер фрейма не равен размеру массива,\n",
    "# за счет нескольких объектов в кадре\n",
    "for i in range (1, frames_n_ids[-1,0]-1): \n",
    "    img = np.zeros((video_h, video_w, 3), dtype=np.uint8) # Создаем пустой кадр\n",
    "    img.fill(255)\n",
    "    for my_unique_people_ids in unique_people_ids: # проходим по унимальным персонам\n",
    "        # применяем условия о текущем фрейме и применяем условие по уникальной персоне \n",
    "        current_ind = (frames_n_ids[:,0] <= i) & (frames_n_ids[:,1] == my_unique_people_ids)\n",
    "        \n",
    "        # применяем условия для наличия персоны в кадре\n",
    "        if my_unique_people_ids in frames_n_ids[frames_n_ids[:,0] == i][:,1]:\n",
    "            points = [list(i.astype(int)) for i in track_df_transform[current_ind, :2]]#\n",
    "\n",
    "            if len(points) >3 :\n",
    "                polyline = create_polyline(points, track_lines_len)#\n",
    "\n",
    "                for i1 in range(len(polyline)-1, 0, -1): #\n",
    "                    cv2.line(img, polyline[i1], polyline[i1 - 1], (0, 0, 255), thickness) #\n",
    "    out.write(img)\n",
    "\n",
    "# Закрываем видеофайл        \n",
    "out.release()"
   ]
  },
  {
   "cell_type": "markdown",
   "id": "1d9f5a48",
   "metadata": {},
   "source": [
    "# Сервисный код"
   ]
  },
  {
   "cell_type": "code",
   "execution_count": 22,
   "id": "32c373d3",
   "metadata": {},
   "outputs": [
    {
     "name": "stdout",
     "output_type": "stream",
     "text": [
      "frame_number: 1885\n",
      "frame_counter: 1885\n"
     ]
    }
   ],
   "source": [
    "# подсчет кадров в видео\n",
    "file_path = \"./output.avi\"\n",
    "cap = cv2.VideoCapture(file_path)\n",
    "if cap.isOpened() == False:\n",
    "    print(\"[!] Cant open video:\", file_path)\n",
    "    exit(-1)\n",
    "frame_number = int(cap.get(cv2.CAP_PROP_FRAME_COUNT))\n",
    "print(\"frame_number:\", frame_number)\n",
    "frame_counter = 0\n",
    "while True:\n",
    "    ret, frame = cap.read()\n",
    "    if ret is False:\n",
    "        break\n",
    "    frame_counter += 1\n",
    "    \n",
    "cap.release()\n",
    "print(\"frame_counter:\", frame_counter)"
   ]
  },
  {
   "cell_type": "code",
   "execution_count": 78,
   "id": "7fbe0c18",
   "metadata": {},
   "outputs": [],
   "source": [
    "# Создаем гифки\n",
    "import imageio\n",
    "import os\n",
    "# Установите путь к видеофайлу и имя выходного файла GIF\n",
    "\n",
    "# video_path = './runs/track/exp/homography/001.avi'\n",
    "# gif_path = './runs/track/exp/homography/001.gif'\n",
    "\n",
    "# Установите длительность GIF-анимации и количество кадров в секунду\n",
    "def create_gif(duration, fps, video_path, gif_path, freq_video = 1):\n",
    "    # freq_video - коэфициент для \"прорежания\" видео. 1 - ничего не делается\n",
    "    \n",
    "    # Создайте список изображений, используя первые пять секунд видеофайла\n",
    "    with imageio.get_reader(video_path) as reader:\n",
    "        frames = [reader.get_data(i) for i in range(int(duration * fps))][::freq_video]\n",
    "    # Сохраните GIF-анимацию\n",
    "    imageio.mimsave(gif_path, frames, duration=1/(fps/freq_video))\n",
    "    # Откройте GIF-анимацию\n",
    "#     os.system(gif_path)\n",
    "#     return 0\n",
    "\n",
    "video_path = './runs/track/exp/001.mp4'\n",
    "gif_path = './runs/track/exp/001.gif'\n",
    "duration = 10\n",
    "fps = 30\n",
    "freq_video = 2\n",
    "create_gif(duration, fps, video_path, gif_path, freq_video)\n",
    "video_path = './runs/track/exp/homography/001.avi'\n",
    "gif_path = './runs/track/exp/homography/001.gif'\n",
    "create_gif(duration, fps, video_path, gif_path, freq_video)"
   ]
  }
 ],
 "metadata": {
  "kernelspec": {
   "display_name": "Python 3 (ipykernel)",
   "language": "python",
   "name": "python3"
  },
  "language_info": {
   "codemirror_mode": {
    "name": "ipython",
    "version": 3
   },
   "file_extension": ".py",
   "mimetype": "text/x-python",
   "name": "python",
   "nbconvert_exporter": "python",
   "pygments_lexer": "ipython3",
   "version": "3.9.13"
  },
  "toc": {
   "base_numbering": 1,
   "nav_menu": {},
   "number_sections": true,
   "sideBar": true,
   "skip_h1_title": false,
   "title_cell": "Table of Contents",
   "title_sidebar": "Contents",
   "toc_cell": false,
   "toc_position": {},
   "toc_section_display": true,
   "toc_window_display": false
  },
  "varInspector": {
   "cols": {
    "lenName": 16,
    "lenType": 16,
    "lenVar": 40
   },
   "kernels_config": {
    "python": {
     "delete_cmd_postfix": "",
     "delete_cmd_prefix": "del ",
     "library": "var_list.py",
     "varRefreshCmd": "print(var_dic_list())"
    },
    "r": {
     "delete_cmd_postfix": ") ",
     "delete_cmd_prefix": "rm(",
     "library": "var_list.r",
     "varRefreshCmd": "cat(var_dic_list()) "
    }
   },
   "types_to_exclude": [
    "module",
    "function",
    "builtin_function_or_method",
    "instance",
    "_Feature"
   ],
   "window_display": false
  }
 },
 "nbformat": 4,
 "nbformat_minor": 5
}
